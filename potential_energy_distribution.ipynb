{
 "cells": [
  {
   "cell_type": "code",
   "execution_count": 1,
   "metadata": {},
   "outputs": [
    {
     "data": {
      "text/html": [
       "<style>.container { width:100% !important; }</style>"
      ],
      "text/plain": [
       "<IPython.core.display.HTML object>"
      ]
     },
     "metadata": {},
     "output_type": "display_data"
    }
   ],
   "source": [
    "import os\n",
    "import glob\n",
    "\n",
    "import numpy as np\n",
    "import pandas as pd\n",
    "\n",
    "import matplotlib.pyplot as plt\n",
    "import seaborn as sns\n",
    "sns.set()\n",
    "\n",
    "from IPython.display import display, HTML\n",
    "display(HTML(\"<style>.container { width:100% !important; }</style>\"))"
   ]
  },
  {
   "cell_type": "code",
   "execution_count": 21,
   "metadata": {},
   "outputs": [],
   "source": [
    "def load_history(filepath):\n",
    "    data = pd.read_csv(filepath, sep=\"\\s+\", header=None)\n",
    "    data.columns = [\"timestep\", \"replica_idx\", \"temperature\", \"potential\"]\n",
    "    return data\n",
    "\n",
    "def load_history_files(data_dir, filename_match=\"trimer_abeta42.job*.sort.history\"):\n",
    "    filepaths = glob.glob(os.path.join(data_dir, filename_match))\n",
    "    #print(\"filepaths:\", filepaths)\n",
    "    dfs = []\n",
    "    for filepath in filepaths:\n",
    "        print(\"Loading:\", filepath)\n",
    "        df = load_history(filepath)\n",
    "        dfs.append(df)\n",
    "    \n",
    "    df = pd.concat(dfs, axis=0, ignore_index=True)\n",
    "    df = df.sort_values(by=\"timestep\")\n",
    "    return df\n",
    "\n",
    "\n",
    "def histogram(x, **kwarg):\n",
    "    hist, bin_edges = np.histogram(x, **kwarg)\n",
    "    bin_centers = []\n",
    "    for l, u in zip(bin_edges[:-1], bin_edges[1:]):\n",
    "        bin_centers.append((l + u)*0.5)\n",
    "    bin_centers = np.array(bin_centers)\n",
    "    return hist, bin_centers"
   ]
  },
  {
   "cell_type": "code",
   "execution_count": 3,
   "metadata": {},
   "outputs": [],
   "source": [
    "DATA_DIR = \"/home/hai/MD_Simulations/trimer_abeta42_cholesterol/REST2_GPU_250ns\""
   ]
  },
  {
   "cell_type": "code",
   "execution_count": 24,
   "metadata": {
    "scrolled": true
   },
   "outputs": [
    {
     "name": "stdout",
     "output_type": "stream",
     "text": [
      "Loading: /home/hai/MD_Simulations/trimer_abeta42_cholesterol/REST2_GPU_250ns/0/trimer_abeta42.job3.0.sort.history\n",
      "Loading: /home/hai/MD_Simulations/trimer_abeta42_cholesterol/REST2_GPU_250ns/0/trimer_abeta42.job5.0.sort.history\n",
      "Loading: /home/hai/MD_Simulations/trimer_abeta42_cholesterol/REST2_GPU_250ns/0/trimer_abeta42.job9.0.sort.history\n",
      "Loading: /home/hai/MD_Simulations/trimer_abeta42_cholesterol/REST2_GPU_250ns/0/trimer_abeta42.job1.0.sort.history\n",
      "Loading: /home/hai/MD_Simulations/trimer_abeta42_cholesterol/REST2_GPU_250ns/0/trimer_abeta42.job7.0.sort.history\n",
      "Loading: /home/hai/MD_Simulations/trimer_abeta42_cholesterol/REST2_GPU_250ns/0/trimer_abeta42.job6.0.sort.history\n",
      "Loading: /home/hai/MD_Simulations/trimer_abeta42_cholesterol/REST2_GPU_250ns/0/trimer_abeta42.job8.0.sort.history\n",
      "Loading: /home/hai/MD_Simulations/trimer_abeta42_cholesterol/REST2_GPU_250ns/0/trimer_abeta42.job0.0.sort.history\n",
      "Loading: /home/hai/MD_Simulations/trimer_abeta42_cholesterol/REST2_GPU_250ns/0/trimer_abeta42.job4.0.sort.history\n",
      "Loading: /home/hai/MD_Simulations/trimer_abeta42_cholesterol/REST2_GPU_250ns/0/trimer_abeta42.job2.0.sort.history\n",
      "Loading: /home/hai/MD_Simulations/trimer_abeta42_cholesterol/REST2_GPU_250ns/2/trimer_abeta42.job6.2.sort.history\n",
      "Loading: /home/hai/MD_Simulations/trimer_abeta42_cholesterol/REST2_GPU_250ns/2/trimer_abeta42.job5.2.sort.history\n",
      "Loading: /home/hai/MD_Simulations/trimer_abeta42_cholesterol/REST2_GPU_250ns/2/trimer_abeta42.job3.2.sort.history\n",
      "Loading: /home/hai/MD_Simulations/trimer_abeta42_cholesterol/REST2_GPU_250ns/2/trimer_abeta42.job0.2.sort.history\n",
      "Loading: /home/hai/MD_Simulations/trimer_abeta42_cholesterol/REST2_GPU_250ns/2/trimer_abeta42.job1.2.sort.history\n",
      "Loading: /home/hai/MD_Simulations/trimer_abeta42_cholesterol/REST2_GPU_250ns/2/trimer_abeta42.job4.2.sort.history\n",
      "Loading: /home/hai/MD_Simulations/trimer_abeta42_cholesterol/REST2_GPU_250ns/2/trimer_abeta42.job7.2.sort.history\n",
      "Loading: /home/hai/MD_Simulations/trimer_abeta42_cholesterol/REST2_GPU_250ns/2/trimer_abeta42.job2.2.sort.history\n",
      "Loading: /home/hai/MD_Simulations/trimer_abeta42_cholesterol/REST2_GPU_250ns/2/trimer_abeta42.job8.2.sort.history\n",
      "Loading: /home/hai/MD_Simulations/trimer_abeta42_cholesterol/REST2_GPU_250ns/2/trimer_abeta42.job9.2.sort.history\n",
      "Loading: /home/hai/MD_Simulations/trimer_abeta42_cholesterol/REST2_GPU_250ns/4/trimer_abeta42.job1.4.sort.history\n",
      "Loading: /home/hai/MD_Simulations/trimer_abeta42_cholesterol/REST2_GPU_250ns/4/trimer_abeta42.job2.4.sort.history\n",
      "Loading: /home/hai/MD_Simulations/trimer_abeta42_cholesterol/REST2_GPU_250ns/4/trimer_abeta42.job6.4.sort.history\n",
      "Loading: /home/hai/MD_Simulations/trimer_abeta42_cholesterol/REST2_GPU_250ns/4/trimer_abeta42.job0.4.sort.history\n",
      "Loading: /home/hai/MD_Simulations/trimer_abeta42_cholesterol/REST2_GPU_250ns/4/trimer_abeta42.job3.4.sort.history\n",
      "Loading: /home/hai/MD_Simulations/trimer_abeta42_cholesterol/REST2_GPU_250ns/4/trimer_abeta42.job8.4.sort.history\n",
      "Loading: /home/hai/MD_Simulations/trimer_abeta42_cholesterol/REST2_GPU_250ns/4/trimer_abeta42.job4.4.sort.history\n",
      "Loading: /home/hai/MD_Simulations/trimer_abeta42_cholesterol/REST2_GPU_250ns/4/trimer_abeta42.job5.4.sort.history\n",
      "Loading: /home/hai/MD_Simulations/trimer_abeta42_cholesterol/REST2_GPU_250ns/4/trimer_abeta42.job7.4.sort.history\n",
      "Loading: /home/hai/MD_Simulations/trimer_abeta42_cholesterol/REST2_GPU_250ns/4/trimer_abeta42.job9.4.sort.history\n",
      "Loading: /home/hai/MD_Simulations/trimer_abeta42_cholesterol/REST2_GPU_250ns/6/trimer_abeta42.job9.6.sort.history\n",
      "Loading: /home/hai/MD_Simulations/trimer_abeta42_cholesterol/REST2_GPU_250ns/6/trimer_abeta42.job4.6.sort.history\n",
      "Loading: /home/hai/MD_Simulations/trimer_abeta42_cholesterol/REST2_GPU_250ns/6/trimer_abeta42.job3.6.sort.history\n",
      "Loading: /home/hai/MD_Simulations/trimer_abeta42_cholesterol/REST2_GPU_250ns/6/trimer_abeta42.job6.6.sort.history\n",
      "Loading: /home/hai/MD_Simulations/trimer_abeta42_cholesterol/REST2_GPU_250ns/6/trimer_abeta42.job8.6.sort.history\n",
      "Loading: /home/hai/MD_Simulations/trimer_abeta42_cholesterol/REST2_GPU_250ns/6/trimer_abeta42.job2.6.sort.history\n",
      "Loading: /home/hai/MD_Simulations/trimer_abeta42_cholesterol/REST2_GPU_250ns/6/trimer_abeta42.job0.6.sort.history\n",
      "Loading: /home/hai/MD_Simulations/trimer_abeta42_cholesterol/REST2_GPU_250ns/6/trimer_abeta42.job1.6.sort.history\n",
      "Loading: /home/hai/MD_Simulations/trimer_abeta42_cholesterol/REST2_GPU_250ns/6/trimer_abeta42.job5.6.sort.history\n",
      "Loading: /home/hai/MD_Simulations/trimer_abeta42_cholesterol/REST2_GPU_250ns/6/trimer_abeta42.job7.6.sort.history\n",
      "Loading: /home/hai/MD_Simulations/trimer_abeta42_cholesterol/REST2_GPU_250ns/8/trimer_abeta42.job0.8.sort.history\n",
      "Loading: /home/hai/MD_Simulations/trimer_abeta42_cholesterol/REST2_GPU_250ns/8/trimer_abeta42.job6.8.sort.history\n",
      "Loading: /home/hai/MD_Simulations/trimer_abeta42_cholesterol/REST2_GPU_250ns/8/trimer_abeta42.job8.8.sort.history\n",
      "Loading: /home/hai/MD_Simulations/trimer_abeta42_cholesterol/REST2_GPU_250ns/8/trimer_abeta42.job3.8.sort.history\n",
      "Loading: /home/hai/MD_Simulations/trimer_abeta42_cholesterol/REST2_GPU_250ns/8/trimer_abeta42.job2.8.sort.history\n",
      "Loading: /home/hai/MD_Simulations/trimer_abeta42_cholesterol/REST2_GPU_250ns/8/trimer_abeta42.job4.8.sort.history\n",
      "Loading: /home/hai/MD_Simulations/trimer_abeta42_cholesterol/REST2_GPU_250ns/8/trimer_abeta42.job7.8.sort.history\n",
      "Loading: /home/hai/MD_Simulations/trimer_abeta42_cholesterol/REST2_GPU_250ns/8/trimer_abeta42.job9.8.sort.history\n",
      "Loading: /home/hai/MD_Simulations/trimer_abeta42_cholesterol/REST2_GPU_250ns/8/trimer_abeta42.job1.8.sort.history\n",
      "Loading: /home/hai/MD_Simulations/trimer_abeta42_cholesterol/REST2_GPU_250ns/8/trimer_abeta42.job5.8.sort.history\n",
      "Loading: /home/hai/MD_Simulations/trimer_abeta42_cholesterol/REST2_GPU_250ns/10/trimer_abeta42.job1.10.sort.history\n",
      "Loading: /home/hai/MD_Simulations/trimer_abeta42_cholesterol/REST2_GPU_250ns/10/trimer_abeta42.job4.10.sort.history\n",
      "Loading: /home/hai/MD_Simulations/trimer_abeta42_cholesterol/REST2_GPU_250ns/10/trimer_abeta42.job9.10.sort.history\n",
      "Loading: /home/hai/MD_Simulations/trimer_abeta42_cholesterol/REST2_GPU_250ns/10/trimer_abeta42.job2.10.sort.history\n",
      "Loading: /home/hai/MD_Simulations/trimer_abeta42_cholesterol/REST2_GPU_250ns/10/trimer_abeta42.job7.10.sort.history\n",
      "Loading: /home/hai/MD_Simulations/trimer_abeta42_cholesterol/REST2_GPU_250ns/10/trimer_abeta42.job0.10.sort.history\n",
      "Loading: /home/hai/MD_Simulations/trimer_abeta42_cholesterol/REST2_GPU_250ns/10/trimer_abeta42.job8.10.sort.history\n",
      "Loading: /home/hai/MD_Simulations/trimer_abeta42_cholesterol/REST2_GPU_250ns/10/trimer_abeta42.job5.10.sort.history\n",
      "Loading: /home/hai/MD_Simulations/trimer_abeta42_cholesterol/REST2_GPU_250ns/10/trimer_abeta42.job6.10.sort.history\n",
      "Loading: /home/hai/MD_Simulations/trimer_abeta42_cholesterol/REST2_GPU_250ns/10/trimer_abeta42.job3.10.sort.history\n",
      "Loading: /home/hai/MD_Simulations/trimer_abeta42_cholesterol/REST2_GPU_250ns/12/trimer_abeta42.job1.12.sort.history\n",
      "Loading: /home/hai/MD_Simulations/trimer_abeta42_cholesterol/REST2_GPU_250ns/12/trimer_abeta42.job5.12.sort.history\n",
      "Loading: /home/hai/MD_Simulations/trimer_abeta42_cholesterol/REST2_GPU_250ns/12/trimer_abeta42.job4.12.sort.history\n",
      "Loading: /home/hai/MD_Simulations/trimer_abeta42_cholesterol/REST2_GPU_250ns/12/trimer_abeta42.job3.12.sort.history\n",
      "Loading: /home/hai/MD_Simulations/trimer_abeta42_cholesterol/REST2_GPU_250ns/12/trimer_abeta42.job8.12.sort.history\n",
      "Loading: /home/hai/MD_Simulations/trimer_abeta42_cholesterol/REST2_GPU_250ns/12/trimer_abeta42.job9.12.sort.history\n",
      "Loading: /home/hai/MD_Simulations/trimer_abeta42_cholesterol/REST2_GPU_250ns/12/trimer_abeta42.job2.12.sort.history\n",
      "Loading: /home/hai/MD_Simulations/trimer_abeta42_cholesterol/REST2_GPU_250ns/12/trimer_abeta42.job6.12.sort.history\n",
      "Loading: /home/hai/MD_Simulations/trimer_abeta42_cholesterol/REST2_GPU_250ns/12/trimer_abeta42.job7.12.sort.history\n",
      "Loading: /home/hai/MD_Simulations/trimer_abeta42_cholesterol/REST2_GPU_250ns/12/trimer_abeta42.job0.12.sort.history\n",
      "Loading: /home/hai/MD_Simulations/trimer_abeta42_cholesterol/REST2_GPU_250ns/14/trimer_abeta42.job2.14.sort.history\n",
      "Loading: /home/hai/MD_Simulations/trimer_abeta42_cholesterol/REST2_GPU_250ns/14/trimer_abeta42.job4.14.sort.history\n"
     ]
    },
    {
     "name": "stdout",
     "output_type": "stream",
     "text": [
      "Loading: /home/hai/MD_Simulations/trimer_abeta42_cholesterol/REST2_GPU_250ns/14/trimer_abeta42.job7.14.sort.history\n",
      "Loading: /home/hai/MD_Simulations/trimer_abeta42_cholesterol/REST2_GPU_250ns/14/trimer_abeta42.job6.14.sort.history\n",
      "Loading: /home/hai/MD_Simulations/trimer_abeta42_cholesterol/REST2_GPU_250ns/14/trimer_abeta42.job3.14.sort.history\n",
      "Loading: /home/hai/MD_Simulations/trimer_abeta42_cholesterol/REST2_GPU_250ns/14/trimer_abeta42.job1.14.sort.history\n",
      "Loading: /home/hai/MD_Simulations/trimer_abeta42_cholesterol/REST2_GPU_250ns/14/trimer_abeta42.job8.14.sort.history\n",
      "Loading: /home/hai/MD_Simulations/trimer_abeta42_cholesterol/REST2_GPU_250ns/14/trimer_abeta42.job9.14.sort.history\n",
      "Loading: /home/hai/MD_Simulations/trimer_abeta42_cholesterol/REST2_GPU_250ns/14/trimer_abeta42.job0.14.sort.history\n",
      "Loading: /home/hai/MD_Simulations/trimer_abeta42_cholesterol/REST2_GPU_250ns/14/trimer_abeta42.job5.14.sort.history\n",
      "Loading: /home/hai/MD_Simulations/trimer_abeta42_cholesterol/REST2_GPU_250ns/15/trimer_abeta42.job0.15.sort.history\n",
      "Loading: /home/hai/MD_Simulations/trimer_abeta42_cholesterol/REST2_GPU_250ns/15/trimer_abeta42.job2.15.sort.history\n",
      "Loading: /home/hai/MD_Simulations/trimer_abeta42_cholesterol/REST2_GPU_250ns/15/trimer_abeta42.job1.15.sort.history\n",
      "Loading: /home/hai/MD_Simulations/trimer_abeta42_cholesterol/REST2_GPU_250ns/15/trimer_abeta42.job8.15.sort.history\n",
      "Loading: /home/hai/MD_Simulations/trimer_abeta42_cholesterol/REST2_GPU_250ns/15/trimer_abeta42.job5.15.sort.history\n",
      "Loading: /home/hai/MD_Simulations/trimer_abeta42_cholesterol/REST2_GPU_250ns/15/trimer_abeta42.job7.15.sort.history\n",
      "Loading: /home/hai/MD_Simulations/trimer_abeta42_cholesterol/REST2_GPU_250ns/15/trimer_abeta42.job9.15.sort.history\n",
      "Loading: /home/hai/MD_Simulations/trimer_abeta42_cholesterol/REST2_GPU_250ns/15/trimer_abeta42.job6.15.sort.history\n",
      "Loading: /home/hai/MD_Simulations/trimer_abeta42_cholesterol/REST2_GPU_250ns/15/trimer_abeta42.job3.15.sort.history\n",
      "Loading: /home/hai/MD_Simulations/trimer_abeta42_cholesterol/REST2_GPU_250ns/15/trimer_abeta42.job4.15.sort.history\n"
     ]
    }
   ],
   "source": [
    "df_0 = load_history_files(os.path.join(DATA_DIR, \"0\"), filename_match=\"trimer_abeta42.job*.sort.history\")\n",
    "df_2 = load_history_files(os.path.join(DATA_DIR, \"2\"), filename_match=\"trimer_abeta42.job*.sort.history\")\n",
    "df_4 = load_history_files(os.path.join(DATA_DIR, \"4\"), filename_match=\"trimer_abeta42.job*.sort.history\")\n",
    "df_6 = load_history_files(os.path.join(DATA_DIR, \"6\"), filename_match=\"trimer_abeta42.job*.sort.history\")\n",
    "df_8 = load_history_files(os.path.join(DATA_DIR, \"8\"), filename_match=\"trimer_abeta42.job*.sort.history\")\n",
    "df_10 = load_history_files(os.path.join(DATA_DIR, \"10\"), filename_match=\"trimer_abeta42.job*.sort.history\")\n",
    "df_12 = load_history_files(os.path.join(DATA_DIR, \"12\"), filename_match=\"trimer_abeta42.job*.sort.history\")\n",
    "df_14 = load_history_files(os.path.join(DATA_DIR, \"14\"), filename_match=\"trimer_abeta42.job*.sort.history\")\n",
    "df_15 = load_history_files(os.path.join(DATA_DIR, \"15\"), filename_match=\"trimer_abeta42.job*.sort.history\")\n",
    "\n",
    "\n",
    "hist_0, bin_center_0 = histogram(df_0[\"potential\"], bins=100, density=True)\n",
    "hist_2, bin_center_2 = histogram(df_2[\"potential\"], bins=100, density=True)\n",
    "hist_4, bin_center_4 = histogram(df_4[\"potential\"], bins=100, density=True)\n",
    "hist_6, bin_center_6 = histogram(df_6[\"potential\"], bins=100, density=True)\n",
    "hist_8, bin_center_8 = histogram(df_8[\"potential\"], bins=100, density=True)\n",
    "hist_10, bin_center_10 = histogram(df_10[\"potential\"], bins=100, density=True)\n",
    "hist_12, bin_center_12 = histogram(df_12[\"potential\"], bins=100, density=True)\n",
    "hist_14, bin_center_14 = histogram(df_14[\"potential\"], bins=100, density=True)\n",
    "hist_15, bin_center_15 = histogram(df_15[\"potential\"], bins=100, density=True)"
   ]
  },
  {
   "cell_type": "code",
   "execution_count": 8,
   "metadata": {},
   "outputs": [
    {
     "data": {
      "text/plain": [
       "<matplotlib.axes._subplots.AxesSubplot at 0x7f23521a78d0>"
      ]
     },
     "execution_count": 8,
     "metadata": {},
     "output_type": "execute_result"
    },
    {
     "data": {
      "image/png": "[encoded data removed]",
      "text/plain": [
       "<Figure size 432x288 with 1 Axes>"
      ]
     },
     "metadata": {},
     "output_type": "display_data"
    }
   ],
   "source": [
    "df_0[\"potential\"].plot(kind=\"hist\")\n",
    "df_2[\"potential\"].plot(kind=\"hist\")"
   ]
  },
  {
   "cell_type": "code",
   "execution_count": 22,
   "metadata": {},
   "outputs": [],
   "source": [
    "hist_0, bin_center_0 = histogram(df_0[\"potential\"], bins=100, density=True)"
   ]
  },
  {
   "cell_type": "code",
   "execution_count": 23,
   "metadata": {},
   "outputs": [
    {
     "data": {
      "text/plain": [
       "(100, 100)"
      ]
     },
     "execution_count": 23,
     "metadata": {},
     "output_type": "execute_result"
    }
   ],
   "source": [
    "len(hist_0), len(bin_center_0)"
   ]
  },
  {
   "cell_type": "code",
   "execution_count": 16,
   "metadata": {},
   "outputs": [
    {
     "data": {
      "text/plain": [
       "[<matplotlib.lines.Line2D at 0x7f23482a2050>]"
      ]
     },
     "execution_count": 16,
     "metadata": {},
     "output_type": "execute_result"
    },
    {
     "data": {
      "image/png": "[encoded data removed]",
      "text/plain": [
       "<Figure size 432x288 with 1 Axes>"
      ]
     },
     "metadata": {},
     "output_type": "display_data"
    }
   ],
   "source": [
    "plt.plot(bin_edge_0[:-1], hist_0)"
   ]
  },
  {
   "cell_type": "code",
   "execution_count": 17,
   "metadata": {},
   "outputs": [],
   "source": [
    "np.histogram?"
   ]
  }
 ],
 "metadata": {
  "kernelspec": {
   "display_name": "Python 3",
   "language": "python",
   "name": "python3"
  },
  "language_info": {
   "codemirror_mode": {
    "name": "ipython",
    "version": 3
   },
   "file_extension": ".py",
   "mimetype": "text/x-python",
   "name": "python",
   "nbconvert_exporter": "python",
   "pygments_lexer": "ipython3",
   "version": "3.7.6"
  }
 },
 "nbformat": 4,
 "nbformat_minor": 4
}
