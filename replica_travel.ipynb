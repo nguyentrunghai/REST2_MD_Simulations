{
 "cells": [
  {
   "cell_type": "code",
   "execution_count": 6,
   "metadata": {},
   "outputs": [
    {
     "data": {
      "text/html": [
       "<style>.container { width:100% !important; }</style>"
      ],
      "text/plain": [
       "<IPython.core.display.HTML object>"
      ]
     },
     "metadata": {},
     "output_type": "display_data"
    }
   ],
   "source": [
    "import os\n",
    "import glob\n",
    "\n",
    "import numpy as np\n",
    "import pandas as pd\n",
    "\n",
    "import matplotlib.pyplot as plt\n",
    "import seaborn as sns\n",
    "sns.set()\n",
    "\n",
    "from IPython.display import display, HTML\n",
    "display(HTML(\"<style>.container { width:100% !important; }</style>\"))"
   ]
  },
  {
   "cell_type": "code",
   "execution_count": 8,
   "metadata": {},
   "outputs": [],
   "source": [
    "def load_history(filepath):\n",
    "    data = pd.read_csv(filepath, sep=\"\\s+\", header=None)\n",
    "    data.columns = [\"timestep\", \"replica_idx\", \"temperature\", \"potential\"]\n",
    "    return data\n",
    "\n",
    "def load_history_files(data_dir, filenames):\n",
    "    dfs = []\n",
    "    for filename in filenames:\n",
    "        path = os.path.join(data_dir, filename)\n",
    "        print(\"Loading:\", path)\n",
    "        df = load_history(path)\n",
    "        dfs.append(dfs)\n",
    "    return pd.concat(dfs, axis=0, ignore_index=True)"
   ]
  },
  {
   "cell_type": "code",
   "execution_count": 4,
   "metadata": {},
   "outputs": [],
   "source": [
    "df = load_history(\n",
    "    \"/home/hai/MD_Simulations/trimer_abeta42_cholesterol/REST2_GPU_250ns/0/trimer_abeta42.job0.0.sort.history\")"
   ]
  },
  {
   "cell_type": "code",
   "execution_count": 7,
   "metadata": {},
   "outputs": [
    {
     "data": {
      "text/html": [
       "<div>\n",
       "<style scoped>\n",
       "    .dataframe tbody tr th:only-of-type {\n",
       "        vertical-align: middle;\n",
       "    }\n",
       "\n",
       "    .dataframe tbody tr th {\n",
       "        vertical-align: top;\n",
       "    }\n",
       "\n",
       "    .dataframe thead th {\n",
       "        text-align: right;\n",
       "    }\n",
       "</style>\n",
       "<table border=\"1\" class=\"dataframe\">\n",
       "  <thead>\n",
       "    <tr style=\"text-align: right;\">\n",
       "      <th></th>\n",
       "      <th>timestep</th>\n",
       "      <th>replica_idx</th>\n",
       "      <th>temperature</th>\n",
       "      <th>potential</th>\n",
       "    </tr>\n",
       "  </thead>\n",
       "  <tbody>\n",
       "    <tr>\n",
       "      <th>0</th>\n",
       "      <td>500</td>\n",
       "      <td>0</td>\n",
       "      <td>310</td>\n",
       "      <td>-112534.392958</td>\n",
       "    </tr>\n",
       "    <tr>\n",
       "      <th>1</th>\n",
       "      <td>1000</td>\n",
       "      <td>0</td>\n",
       "      <td>310</td>\n",
       "      <td>-112637.547151</td>\n",
       "    </tr>\n",
       "    <tr>\n",
       "      <th>2</th>\n",
       "      <td>1500</td>\n",
       "      <td>0</td>\n",
       "      <td>310</td>\n",
       "      <td>-112902.191069</td>\n",
       "    </tr>\n",
       "    <tr>\n",
       "      <th>3</th>\n",
       "      <td>2000</td>\n",
       "      <td>1</td>\n",
       "      <td>310</td>\n",
       "      <td>-112409.024416</td>\n",
       "    </tr>\n",
       "    <tr>\n",
       "      <th>4</th>\n",
       "      <td>2500</td>\n",
       "      <td>1</td>\n",
       "      <td>310</td>\n",
       "      <td>-112480.462661</td>\n",
       "    </tr>\n",
       "    <tr>\n",
       "      <th>...</th>\n",
       "      <td>...</td>\n",
       "      <td>...</td>\n",
       "      <td>...</td>\n",
       "      <td>...</td>\n",
       "    </tr>\n",
       "    <tr>\n",
       "      <th>4995</th>\n",
       "      <td>2498000</td>\n",
       "      <td>13</td>\n",
       "      <td>310</td>\n",
       "      <td>-112251.666739</td>\n",
       "    </tr>\n",
       "    <tr>\n",
       "      <th>4996</th>\n",
       "      <td>2498500</td>\n",
       "      <td>13</td>\n",
       "      <td>310</td>\n",
       "      <td>-112373.809550</td>\n",
       "    </tr>\n",
       "    <tr>\n",
       "      <th>4997</th>\n",
       "      <td>2499000</td>\n",
       "      <td>8</td>\n",
       "      <td>310</td>\n",
       "      <td>-112205.185454</td>\n",
       "    </tr>\n",
       "    <tr>\n",
       "      <th>4998</th>\n",
       "      <td>2499500</td>\n",
       "      <td>8</td>\n",
       "      <td>310</td>\n",
       "      <td>-112174.038008</td>\n",
       "    </tr>\n",
       "    <tr>\n",
       "      <th>4999</th>\n",
       "      <td>2500000</td>\n",
       "      <td>8</td>\n",
       "      <td>310</td>\n",
       "      <td>-111881.180224</td>\n",
       "    </tr>\n",
       "  </tbody>\n",
       "</table>\n",
       "<p>5000 rows × 4 columns</p>\n",
       "</div>"
      ],
      "text/plain": [
       "      timestep  replica_idx  temperature      potential\n",
       "0          500            0          310 -112534.392958\n",
       "1         1000            0          310 -112637.547151\n",
       "2         1500            0          310 -112902.191069\n",
       "3         2000            1          310 -112409.024416\n",
       "4         2500            1          310 -112480.462661\n",
       "...        ...          ...          ...            ...\n",
       "4995   2498000           13          310 -112251.666739\n",
       "4996   2498500           13          310 -112373.809550\n",
       "4997   2499000            8          310 -112205.185454\n",
       "4998   2499500            8          310 -112174.038008\n",
       "4999   2500000            8          310 -111881.180224\n",
       "\n",
       "[5000 rows x 4 columns]"
      ]
     },
     "execution_count": 7,
     "metadata": {},
     "output_type": "execute_result"
    }
   ],
   "source": [
    "df"
   ]
  }
 ],
 "metadata": {
  "kernelspec": {
   "display_name": "Python 3",
   "language": "python",
   "name": "python3"
  },
  "language_info": {
   "codemirror_mode": {
    "name": "ipython",
    "version": 3
   },
   "file_extension": ".py",
   "mimetype": "text/x-python",
   "name": "python",
   "nbconvert_exporter": "python",
   "pygments_lexer": "ipython3",
   "version": "3.7.6"
  }
 },
 "nbformat": 4,
 "nbformat_minor": 4
}
